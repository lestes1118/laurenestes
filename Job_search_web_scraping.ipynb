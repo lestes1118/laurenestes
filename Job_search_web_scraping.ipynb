{
 "cells": [
  {
   "cell_type": "code",
   "execution_count": 21,
   "id": "99e16465-e7a8-4996-b004-8ef1c09fd676",
   "metadata": {},
   "outputs": [
    {
     "ename": "NameError",
     "evalue": "name 'home' is not defined",
     "output_type": "error",
     "traceback": [
      "\u001b[0;31m---------------------------------------------------------------------------\u001b[0m",
      "\u001b[0;31mNameError\u001b[0m                                 Traceback (most recent call last)",
      "Cell \u001b[0;32mIn[21], line 24\u001b[0m\n\u001b[1;32m     21\u001b[0m         \u001b[38;5;28mprint\u001b[39m(\u001b[38;5;124mf\u001b[39m\u001b[38;5;124m\"\u001b[39m\u001b[38;5;124mFailed to retrieve jobs: \u001b[39m\u001b[38;5;132;01m{\u001b[39;00mresponse\u001b[38;5;241m.\u001b[39mstatus_code\u001b[38;5;132;01m}\u001b[39;00m\u001b[38;5;124m\"\u001b[39m)\n\u001b[1;32m     22\u001b[0m         \u001b[38;5;28;01mreturn\u001b[39;00m []\n\u001b[0;32m---> 24\u001b[0m pdf_path \u001b[38;5;241m=\u001b[39m home\u001b[38;5;241m/\u001b[39mlestes\u001b[38;5;241m/\u001b[39mbsu\u001b[38;5;241m/\u001b[39mbsu\u001b[38;5;241m/\u001b[39m\u001b[38;5;124m'\u001b[39m\u001b[38;5;124mLauren Estes Resume October 2024.pdf\u001b[39m\u001b[38;5;124m'\u001b[39m\n\u001b[1;32m     25\u001b[0m reader \u001b[38;5;241m=\u001b[39m PdfReader(pdf_path)\n\u001b[1;32m     26\u001b[0m page \u001b[38;5;241m=\u001b[39m reader\u001b[38;5;241m.\u001b[39mpages[\u001b[38;5;241m0\u001b[39m]\n",
      "\u001b[0;31mNameError\u001b[0m: name 'home' is not defined"
     ]
    }
   ],
   "source": [
    "# Required libraries\n",
    "import requests\n",
    "from bs4 import BeautifulSoup\n",
    "import re\n",
    "from collections import Counter\n",
    "from pypdf import PdfReader\n",
    "\n",
    "def scrape_jobs(url):\n",
    "    headers = {\"User-Agent\": \"Mozilla/5.0\"}  # To mimic browser request\n",
    "    response = requests.get(url, headers=headers)\n",
    "    \n",
    "    if response.status_code == 200:\n",
    "        soup = BeautifulSoup(response.content, \"html.parser\")\n",
    "        job_listings = []\n",
    "        for job in soup.find_all(\"div\", class_=\"job-listing\"):  # Assuming each job is in a div class\n",
    "            title = job.find(\"h2\").text.strip()\n",
    "            description = job.find(\"p\", class_=\"job-description\").text.strip()\n",
    "            job_listings.append({\"title\": title, \"description\": description})\n",
    "        return job_listings\n",
    "    else:\n",
    "        print(f\"Failed to retrieve jobs: {response.status_code}\")\n",
    "        return []\n",
    "\n",
    "pdf_path = home/lestes/bsu/bsu/'Lauren Estes Resume October 2024.pdf'\n",
    "reader = PdfReader(pdf_path)\n",
    "page = reader.pages[0]\n",
    "print(page.extract_text())\n",
    "\n",
    "def parse_resume(file_path):\n",
    "    with open(file_path, 'r') as f:\n",
    "        resume_text = f.read()\n",
    "        keywords = re.findall(r'\\b\\w+\\b', resume_text)  # Extract words\n",
    "        return Counter(keywords)  # Count word occurrences (skills, etc.)\n",
    "\n",
    "# Sample matching function\n",
    "def match_jobs(jobs, resume_keywords):\n",
    "    matched_jobs = []\n",
    "    for job in jobs:\n",
    "        job_keywords = re.findall(r'\\b\\w+\\b', job[\"description\"])\n",
    "        job_score = sum(resume_keywords.get(keyword, 0) for keyword in job_keywords)  # Count matching words\n",
    "        if job_score > 0:\n",
    "            matched_jobs.append((job, job_score))\n",
    "    \n",
    "    # Sort by relevance (highest score first)\n",
    "    matched_jobs.sort(key=lambda x: x[1], reverse=True)\n",
    "    return matched_jobs\n",
    "\n",
    "# Main script execution\n",
    "if __name__ == \"__main__\":\n",
    "    resume_keywords = parse_resume(file)  # Replace with your resume file\n",
    "    jobs = scrape_jobs(\"https://www.monster.com/\")  # Replace with a real job listings page\n",
    "    matched_jobs = match_jobs(jobs, resume_keywords)\n",
    "    \n",
    "    for job, score in matched_jobs:\n",
    "        print(f\"Job Title: {job['title']}\\nMatch Score: {score}\\nDescription: {job['description']}\\n\")\n"
   ]
  },
  {
   "cell_type": "code",
   "execution_count": null,
   "id": "c6434658-bf40-4072-a250-ed9b179293c5",
   "metadata": {},
   "outputs": [],
   "source": []
  },
  {
   "cell_type": "code",
   "execution_count": null,
   "id": "5381c019-8f07-4021-8b46-650ebe182f81",
   "metadata": {},
   "outputs": [],
   "source": []
  }
 ],
 "metadata": {
  "kernelspec": {
   "display_name": "Python 3 (ipykernel)",
   "language": "python",
   "name": "python3"
  },
  "language_info": {
   "codemirror_mode": {
    "name": "ipython",
    "version": 3
   },
   "file_extension": ".py",
   "mimetype": "text/x-python",
   "name": "python",
   "nbconvert_exporter": "python",
   "pygments_lexer": "ipython3",
   "version": "3.12.4"
  }
 },
 "nbformat": 4,
 "nbformat_minor": 5
}
